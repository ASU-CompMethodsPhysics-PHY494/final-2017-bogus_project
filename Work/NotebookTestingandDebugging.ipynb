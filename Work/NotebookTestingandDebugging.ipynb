{
 "cells": [
  {
   "cell_type": "code",
   "execution_count": 1,
   "metadata": {
    "collapsed": false
   },
   "outputs": [],
   "source": [
    "import numpy as np\n",
    "import matplotlib.pyplot as plt\n",
    "%matplotlib inline"
   ]
  },
  {
   "cell_type": "markdown",
   "metadata": {},
   "source": [
    "# Initial Conditions (Gaussian)"
   ]
  },
  {
   "cell_type": "code",
   "execution_count": 2,
   "metadata": {
    "collapsed": false
   },
   "outputs": [],
   "source": [
    "def initialPosition1D(xsize, sigma, k_naught, x_init):\n",
    "    psi = np.zeros([xsize, 3])\n",
    "    psr = np.zeros_like(psi)\n",
    "    #psiTot = np.zeros([xsize, 2])\n",
    "    \n",
    "    for x in range(0, psi[:,0].size - 1):\n",
    "        psr[x, 0] = np.exp(-0.5*((x-x_init)/sigma)**2)*np.cos(k_naught*x)\n",
    "        psi[x, 0] = np.exp(-0.5*((x-x_init)/sigma)**2)*np.sin(k_naught*x)\n",
    "        #psiTot[x, 0] = np.exp(-0.5*((x-x_init)/sigma)**2)*np.cos(k_naught*x)\n",
    "    return psr, psi\n",
    "    #return psiTot\n"
   ]
  },
  {
   "cell_type": "markdown",
   "metadata": {},
   "source": [
    "# My attempt at the book's algorithm"
   ]
  },
  {
   "cell_type": "code",
   "execution_count": 3,
   "metadata": {
    "collapsed": false
   },
   "outputs": [
    {
     "name": "stderr",
     "output_type": "stream",
     "text": [
      "C:\\Users\\Andre\\Anaconda3\\lib\\site-packages\\ipykernel\\__main__.py:17: VisibleDeprecationWarning: using a non-integer number instead of an integer will result in an error in the future\n",
      "C:\\Users\\Andre\\Anaconda3\\lib\\site-packages\\ipykernel\\__main__.py:28: VisibleDeprecationWarning: using a non-integer number instead of an integer will result in an error in the future\n",
      "C:\\Users\\Andre\\Anaconda3\\lib\\site-packages\\ipykernel\\__main__.py:20: RuntimeWarning: overflow encountered in subtract\n",
      "C:\\Users\\Andre\\Anaconda3\\lib\\site-packages\\ipykernel\\__main__.py:21: RuntimeWarning: overflow encountered in subtract\n",
      "C:\\Users\\Andre\\Anaconda3\\lib\\site-packages\\ipykernel\\__main__.py:20: RuntimeWarning: overflow encountered in add\n",
      "C:\\Users\\Andre\\Anaconda3\\lib\\site-packages\\ipykernel\\__main__.py:21: RuntimeWarning: overflow encountered in add\n"
     ]
    }
   ],
   "source": [
    "xsize = 751\n",
    "x_init = 400\n",
    "k_init = 17*np.pi\n",
    "sigma_0 = 0.5\n",
    "deltaX = 0.02\n",
    "deltaT = 0.5*deltaX**2\n",
    "\n",
    "psr, psi = initialPosition1D(xsize, sigma_0, k_init, x_init)\n",
    "rho = np.zeros_like(psr[:,0])\n",
    "rho[0] = rho[xsize-1] = 0.0\n",
    "\n",
    "t_step = 0.5*deltaT\n",
    "t = 0\n",
    "alpha = t_step/(deltaX**2)\n",
    "numSteps = 1000\n",
    "\n",
    "plotting_set = np.zeros([numSteps/50, xsize])\n",
    "\n",
    "for n in range(numSteps):\n",
    "    psr[1:-1, 1] = psr[1:-1, 0] - 2*(alpha*(psi[2:, 0] + psi[:-2, 0]) - 2*alpha*psi[1:-1, 0])\n",
    "    psi[1:-1, 1] = psi[1:-1, 0] - 2*(alpha*(psr[2:, 0] + psr[:-2, 0]) - 2*alpha*psr[1:-1, 0])\n",
    "    \n",
    "    psi[:, 0] = psi[:, 1]\n",
    "    psr[:, 0] = psr[:, 1]\n",
    "    \n",
    "    t += t_step\n",
    "    if (n % 50 == 0):\n",
    "        plotting_set[t, :] = psr[:, 0]"
   ]
  },
  {
   "cell_type": "code",
   "execution_count": 4,
   "metadata": {
    "collapsed": false
   },
   "outputs": [
    {
     "data": {
      "text/plain": [
       "[<matplotlib.lines.Line2D at 0x2867384a358>]"
      ]
     },
     "execution_count": 4,
     "metadata": {},
     "output_type": "execute_result"
    },
    {
     "data": {
      "image/png": "[encoded data removed]",
      "text/plain": [
       "<matplotlib.figure.Figure at 0x286737b6d30>"
      ]
     },
     "metadata": {},
     "output_type": "display_data"
    }
   ],
   "source": [
    "plt.plot(plotting_set[0,:])"
   ]
  },
  {
   "cell_type": "markdown",
   "metadata": {},
   "source": [
    "# Code Directly from the Book"
   ]
  },
  {
   "cell_type": "code",
   "execution_count": 142,
   "metadata": {
    "collapsed": false
   },
   "outputs": [],
   "source": [
    "# initialize wave function , probability , potential\n",
    "dx = 0.04; dx2 = dx*dx ; k0 = 5.5*np.pi ; dt = dx2 /20.0; xmax = 6.0\n",
    "xs = np.arange(-xmax,xmax+dx/2 ,dx) # array of x positions \n",
    "\n",
    "#g = display ( width=500, height =250, title ='Wave packet in HO Well') \n",
    "#PlotObj = curve (x=xs , color=color.yellow , radius =0.1) \n",
    "\n",
    "#g.center = (0 ,2 ,0) # center of scene \n",
    "\n",
    "psr = np.zeros([xs.size])\n",
    "\n",
    "# initial condition ; wave packet \n",
    "psr = np.exp(-0.5*(xs /0.5)**2)*np.cos(k0*xs) # Re wave function Psi \n",
    "psi = np.exp(-0.5*(xs /0.5)**2)*np.sin(k0*xs) # Im wave function Psi \n",
    "#v = 15.0*xs**2 \n",
    "v = 1*xs**2\n",
    "n = 0\n",
    "\n",
    "#Stuff I had to add\n",
    "psi_new = np.zeros_like(psi)\n",
    "psr_new = np.zeros_like(psr)\n",
    "\n",
    "psi_old = np.zeros_like(psi)\n",
    "psr_old = np.zeros_like(psr)\n",
    "\n",
    "plotting_Set = np.zeros([int(5000/50), xs.size])\n",
    "prob_Set = np.zeros([int(5000/100), xs.size])\n",
    "while n < 5000: \n",
    "    #rate (500) \n",
    "    psr_new[1:-1] = psr[1:-1]-(dt/dx2)*(psi[2:]+ psi[:-2]-2*psi[1:-1])+dt*v[1:-1]*psi[1:-1]\n",
    "    psi_new[1:-1] = psi[1:-1]+(dt/dx2)*(psr[2:]+ psr[:-2]-2*psr[1:-1])-dt*v[1:-1]*psr[1:-1]\n",
    "    n += 1\n",
    "    \n",
    "    if (n%100):\n",
    "        #prob_Set[n/100, :] = psr[:]**2 + psi_old[:]*psi_new[:]\n",
    "        #prob_Set[n/100, :] = psi[:]**2 + psr_old[:]*psr_new[:]\n",
    "        prob_Set[int(n/100), :] = 4*(psr[:]**2 + psi[:]**2)\n",
    "    \n",
    "    #stuff I had to add\n",
    "    psr_old[:] = psr[:]\n",
    "    psi_old[:] = psi[:]\n",
    "    psr[:] = psr_new[:]\n",
    "    psi[:] = psi_new[:]\n",
    "    \n",
    "    if (n % 50):\n",
    "        plotting_Set[int(n/50), :] = psr_new[:]\n",
    "        \n",
    "    #PlotObj.y = 4*(psr**2 + psi**2)"
   ]
  },
  {
   "cell_type": "code",
   "execution_count": 152,
   "metadata": {
    "collapsed": false
   },
   "outputs": [
    {
     "data": {
      "image/png": "[encoded data removed]",
      "text/plain": [
       "<matplotlib.figure.Figure at 0x28675abe748>"
      ]
     },
     "metadata": {},
     "output_type": "display_data"
    }
   ],
   "source": [
    "fig = plt.figure(figsize=(15,6))\n",
    "plt.title('Behavior of Probability of Chosen Algorithm', size=20)\n",
    "plt.axis('off')\n",
    "ax1 = fig.add_subplot(131)\n",
    "ax1.plot(prob_Set[14, :])\n",
    "ax1.set_ylabel('Probability', size=20)\n",
    "#ax1.get_xaxis().set_visible(False)\n",
    "#ax1.get_yaxis().set_visible(False)\n",
    "ax2 = fig.add_subplot(132)\n",
    "ax2.plot(prob_Set[17,:])\n",
    "ax2.set_xlabel('Position', size=20)\n",
    "#ax2.get_xaxis().set_visible(True)\n",
    "#ax2.get_yaxis().set_visible(False)\n",
    "ax3 = fig.add_subplot(133)\n",
    "ax3.plot(prob_Set[18,:])\n",
    "#ax3.get_xaxis().set_visible(True)\n",
    "#ax3.get_yaxis().set_visible(False)\n",
    "\n",
    "plt.savefig(\"BoundaryBehavior.jpg\")"
   ]
  },
  {
   "cell_type": "markdown",
   "metadata": {},
   "source": [
    "# My own algorithm attempt"
   ]
  },
  {
   "cell_type": "code",
   "execution_count": 35,
   "metadata": {
    "collapsed": false,
    "scrolled": false
   },
   "outputs": [],
   "source": [
    "xsize = 751\n",
    "x_init = 400\n",
    "k_init = 17*np.pi\n",
    "sigma_0 = 0.02\n",
    "deltaX = 0.02\n",
    "deltaT = 0.5*deltaX**2\n",
    "\n",
    "psr, psi = initialPosition1D(xsize, sigma_0, k_init, x_init)\n",
    "\n",
    "rho = np.zeros_like(psi[:,0])\n",
    "rho[0] = rho[xsize-1] = 0.0\n",
    "v = np.zeros_like(psi[:,0])\n",
    "\n",
    "t_step = 0.5*deltaT\n",
    "t = 0\n",
    "alpha = t_step/(deltaX**2)\n",
    "numSteps = 1000\n",
    "\n",
    "plotting_set = np.zeros([int(numSteps/50), xsize])\n",
    "\n",
    "probSet = np.zeros([xsize, numSteps])\n",
    "\n",
    "for n in range(numSteps):\n",
    "    psi[1:-1,1] = deltaT*((0.5/deltaX**2)*(psr[2:,0] + psr[:-2,0] - 2*psr[1:-1,0]) + v[1:-1]*psr[1:-1,0]) + psi[1:-1,0]\n",
    "    psr[1:-1,1] = deltaT*((0.5/deltaX**2)*(psi[2:,0] + psi[:-2,0] - 2*psi[1:-1,0]) + v[1:-1]*psi[1:-1,0]) + psr[1:-1,0]\n",
    "    \n",
    "    #probSet[:,n] = psi[:,0]**2+psr[:,1]*psr[:,2]\n",
    "    probSet[:,n] = (psi[:,0] + psr[:,0])**2\n",
    "    \n",
    "    psi[:, 2] = psi[:, 0]\n",
    "    psr[:, 2] = psr[:, 0]\n",
    "    psi[:, 0] = psi[:, 1]\n",
    "    psr[:, 0] = psr[:, 1]"
   ]
  },
  {
   "cell_type": "code",
   "execution_count": 36,
   "metadata": {
    "collapsed": false
   },
   "outputs": [
    {
     "data": {
      "text/plain": [
       "[<matplotlib.lines.Line2D at 0x2932e072b38>]"
      ]
     },
     "execution_count": 36,
     "metadata": {},
     "output_type": "execute_result"
    },
    {
     "data": {
      "image/png": "[encoded data removed]",
      "text/plain": [
       "<matplotlib.figure.Figure at 0x2932d875710>"
      ]
     },
     "metadata": {},
     "output_type": "display_data"
    }
   ],
   "source": [
    "plt.plot(probSet[:,0])"
   ]
  },
  {
   "cell_type": "code",
   "execution_count": 39,
   "metadata": {
    "collapsed": false
   },
   "outputs": [
    {
     "data": {
      "text/plain": [
       "1.0000000000025411"
      ]
     },
     "execution_count": 39,
     "metadata": {},
     "output_type": "execute_result"
    }
   ],
   "source": [
    "np.linalg.norm(probSet[:,0])"
   ]
  },
  {
   "cell_type": "code",
   "execution_count": null,
   "metadata": {
    "collapsed": true
   },
   "outputs": [],
   "source": []
  }
 ],
 "metadata": {
  "anaconda-cloud": {},
  "kernelspec": {
   "display_name": "Python [Root]",
   "language": "python",
   "name": "Python [Root]"
  },
  "language_info": {
   "codemirror_mode": {
    "name": "ipython",
    "version": 3
   },
   "file_extension": ".py",
   "mimetype": "text/x-python",
   "name": "python",
   "nbconvert_exporter": "python",
   "pygments_lexer": "ipython3",
   "version": "3.5.2"
  }
 },
 "nbformat": 4,
 "nbformat_minor": 0
}
